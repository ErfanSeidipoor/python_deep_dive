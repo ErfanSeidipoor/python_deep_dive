{
 "metadata": {
  "language_info": {
   "codemirror_mode": {
    "name": "ipython",
    "version": 3
   },
   "file_extension": ".py",
   "mimetype": "text/x-python",
   "name": "python",
   "nbconvert_exporter": "python",
   "pygments_lexer": "ipython3",
   "version": "3.8.5-final"
  },
  "orig_nbformat": 2,
  "kernelspec": {
   "name": "python38564bitvenvvenv29795fd3ebc6467f927a688fb305efe1",
   "display_name": "Python 3.8.5 64-bit ('venv': venv)",
   "language": "python"
  }
 },
 "nbformat": 4,
 "nbformat_minor": 2,
 "cells": [
  {
   "cell_type": "code",
   "execution_count": 4,
   "metadata": {},
   "outputs": [
    {
     "output_type": "stream",
     "name": "stdout",
     "text": [
      "26\n112\n"
     ]
    }
   ],
   "source": [
    "def my_func(a, b=100):\n",
    "    return a + b\n",
    "\n",
    "print(my_func(12, 14))\n",
    "print(my_func(12))\n"
   ]
  },
  {
   "cell_type": "code",
   "execution_count": 5,
   "metadata": {},
   "outputs": [
    {
     "output_type": "error",
     "ename": "SyntaxError",
     "evalue": "non-default argument follows default argument (<ipython-input-5-1f662a628b91>, line 1)",
     "traceback": [
      "\u001b[0;36m  File \u001b[0;32m\"<ipython-input-5-1f662a628b91>\"\u001b[0;36m, line \u001b[0;32m1\u001b[0m\n\u001b[0;31m    def my_func(a, b=100, c):\u001b[0m\n\u001b[0m                ^\u001b[0m\n\u001b[0;31mSyntaxError\u001b[0m\u001b[0;31m:\u001b[0m non-default argument follows default argument\n"
     ]
    }
   ],
   "source": [
    "def my_func(a, b=100, c):\n",
    "    return a + b + c"
   ]
  },
  {
   "cell_type": "code",
   "execution_count": 10,
   "metadata": {},
   "outputs": [
    {
     "output_type": "stream",
     "name": "stdout",
     "text": [
      "420\n420\n320\n"
     ]
    }
   ],
   "source": [
    "def my_func(a, b=100, c=200):\n",
    "    return a + b + c\n",
    "print(my_func(a=20, b=200)) #keyword argument\n",
    "print(my_func(20, b=200)) #keyword argument\n",
    "print(my_func(20, c=200)) #keyword argument\n"
   ]
  },
  {
   "cell_type": "code",
   "execution_count": 20,
   "metadata": {},
   "outputs": [
    {
     "output_type": "stream",
     "name": "stdout",
     "text": [
      "321\n321\n501\n321\n321\n"
     ]
    }
   ],
   "source": [
    "def my_func(a, b, c):\n",
    "    return a + 2*b + 3*c\n",
    "\n",
    "print(my_func(a=1  , b=10 , c=100))\n",
    "print(my_func(b=10 , a=1  , c=100))\n",
    "print(my_func(c=100, a=1  , b=100))\n",
    "\n",
    "print(my_func(1    , b=10  , c=100))\n",
    "print(my_func(1    , c=100 , b=10)) \n"
   ]
  },
  {
   "cell_type": "code",
   "execution_count": null,
   "metadata": {},
   "outputs": [],
   "source": [
    "def my_func(a, b, c):\n",
    "    return a + 2*b + 3*c\n",
    "\n",
    "print(my_func(a=1 , b=10 , c=100))\n",
    "print(my_func(b=10, a=1  , c=100))\n",
    "print(my_func(c=100, a=1  , b=100))"
   ]
  }
 ]
}